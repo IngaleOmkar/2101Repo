{
 "cells": [
  {
   "cell_type": "code",
   "execution_count": 1,
   "metadata": {},
   "outputs": [],
   "source": [
    "import pandas as pd\n",
    "import numpy as np\n",
    "import random\n",
    "import matplotlib.pyplot as plt"
   ]
  },
  {
   "cell_type": "code",
   "execution_count": 2,
   "metadata": {},
   "outputs": [],
   "source": [
    "import Q2 as q2\n",
    "import dijkstra as q1\n",
    "import DataStructures as ds"
   ]
  },
  {
   "cell_type": "code",
   "execution_count": 3,
   "metadata": {},
   "outputs": [],
   "source": [
    "record = {'hpq_d':[], 'apq_d':[]}\n",
    "for graph_num in range(0,100):    \n",
    "    # Defines the number of \"nodes\" in the graph\n",
    "    vertices = 100000\n",
    "    # Defines the number of \"connections\" in the graph\n",
    "    edges = 1000000\n",
    "    # Creates the graph for Q1\n",
    "    g_apq = ds.Graph(vertices)\n",
    "    # Creates the graph for Q2\n",
    "    g_hpq = q2.Graph(vertices)\n",
    "    # Creates a new dictionary to ensure no same edge with different weights \n",
    "    added = {i:[] for i in range(vertices)}\n",
    "    # Populates the graph with randomly generated connections\n",
    "    for i in range(edges):\n",
    "        start_edge = random.randint(0,vertices-1)\n",
    "        end_edge = random.randint(0,vertices-1)\n",
    "        weight = random.randint(0,50)\n",
    "        if((start_edge != end_edge) and (end_edge not in added[start_edge])):\n",
    "            added[start_edge].append(end_edge)\n",
    "            # adds the edge for graph in q1\n",
    "            g_apq.addEdge(start_edge, end_edge, weight)\n",
    "            # adds the edge for graph in q2\n",
    "            g_hpq.addEdge(start_edge, end_edge, weight)\n",
    "    # Getting outputs for q1 dijkstra\n",
    "    sorted_apq, time_apq = q1.dijkstra(g_apq, 0)\n",
    "    # Getting outputs for q2 dijkstra\n",
    "    sorted_hpq, time_hpq = q2.dijkstra(g_hpq, 0)\n",
    "    # Saving the times\n",
    "    record['apq_d'].append(time_apq)\n",
    "    record['hpq_d'].append(time_hpq)\n",
    "    print(\"Iteration\", graph_num, \"complete.\")\n",
    "record = pd.DataFrame(record)"
   ]
  },
  {
   "cell_type": "code",
   "execution_count": 2,
   "metadata": {},
   "outputs": [
    {
     "ename": "NameError",
     "evalue": "name 'record' is not defined",
     "output_type": "error",
     "traceback": [
      "\u001b[0;31m---------------------------------------------------------------------------\u001b[0m",
      "\u001b[0;31mNameError\u001b[0m                                 Traceback (most recent call last)",
      "\u001b[0;32m/var/folders/5d/7kyh57w16sx0z4b2sprf9ln00000gn/T/ipykernel_85988/3531500957.py\u001b[0m in \u001b[0;36m<module>\u001b[0;34m\u001b[0m\n\u001b[0;32m----> 1\u001b[0;31m \u001b[0mrecord\u001b[0m\u001b[0;34m\u001b[0m\u001b[0;34m\u001b[0m\u001b[0m\n\u001b[0m",
      "\u001b[0;31mNameError\u001b[0m: name 'record' is not defined"
     ]
    }
   ],
   "source": [
    "record"
   ]
  },
  {
   "cell_type": "code",
   "execution_count": 1,
   "metadata": {},
   "outputs": [],
   "source": [
    "plt.figure(figsize=(12,24))\n",
    "plt.plot(record['apq_d'], label = 'Array Priority Queue')\n",
    "plt.plot(record['hpq_d'], label = 'Heap Priority Queue')\n",
    "plt.legend(loc = 'upper right')"
   ]
  }
 ],
 "metadata": {
  "interpreter": {
   "hash": "1d930962cd8b702cd91e98617e156209e8b6dab782283528c147ea0c3e731393"
  },
  "kernelspec": {
   "display_name": "Python 3",
   "language": "python",
   "name": "python3"
  },
  "language_info": {
   "codemirror_mode": {
    "name": "ipython",
    "version": 3
   },
   "file_extension": ".py",
   "mimetype": "text/x-python",
   "name": "python",
   "nbconvert_exporter": "python",
   "pygments_lexer": "ipython3",
   "version": "3.9.4"
  }
 },
 "nbformat": 4,
 "nbformat_minor": 2
}
