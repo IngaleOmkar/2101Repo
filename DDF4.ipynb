{
  "nbformat": 4,
  "nbformat_minor": 0,
  "metadata": {
    "colab": {
      "name": "DDF4.ipynb",
      "provenance": [],
      "collapsed_sections": [],
      "include_colab_link": true
    },
    "kernelspec": {
      "name": "python3",
      "display_name": "Python 3"
    },
    "language_info": {
      "name": "python"
    }
  },
  "cells": [
    {
      "cell_type": "markdown",
      "metadata": {
        "id": "view-in-github",
        "colab_type": "text"
      },
      "source": [
        "<a href=\"https://colab.research.google.com/github/IngaleOmkar/2101Repo/blob/main/DDF4.ipynb\" target=\"_parent\"><img src=\"https://colab.research.google.com/assets/colab-badge.svg\" alt=\"Open In Colab\"/></a>"
      ]
    },
    {
      "cell_type": "code",
      "metadata": {
        "id": "LQibx1_tcac8"
      },
      "source": [
        "import pandas as pd\n",
        "import numpy as np"
      ],
      "execution_count": 1,
      "outputs": []
    },
    {
      "cell_type": "code",
      "metadata": {
        "id": "IPVkg6D9cdNh"
      },
      "source": [
        "main = pd.read_csv(\"MainData.csv\")\n",
        "validate = pd.read_csv(\"ValidationFinal.csv\")"
      ],
      "execution_count": 2,
      "outputs": []
    },
    {
      "cell_type": "code",
      "metadata": {
        "colab": {
          "base_uri": "https://localhost:8080/"
        },
        "id": "HEtAUW7ecufC",
        "outputId": "cadc883d-96a1-49be-c49b-6140442e1ad2"
      },
      "source": [
        "main.result.value_counts()"
      ],
      "execution_count": 3,
      "outputs": [
        {
          "output_type": "execute_result",
          "data": {
            "text/plain": [
              "0    4078\n",
              "1    3962\n",
              "Name: result, dtype: int64"
            ]
          },
          "metadata": {},
          "execution_count": 3
        }
      ]
    },
    {
      "cell_type": "code",
      "metadata": {
        "colab": {
          "base_uri": "https://localhost:8080/",
          "height": 419
        },
        "id": "PsFr8lrtdHFS",
        "outputId": "cb8e8c3e-9c2d-4df6-8e7e-3b668814803f"
      },
      "source": [
        "main"
      ],
      "execution_count": 4,
      "outputs": [
        {
          "output_type": "execute_result",
          "data": {
            "text/html": [
              "<div>\n",
              "<style scoped>\n",
              "    .dataframe tbody tr th:only-of-type {\n",
              "        vertical-align: middle;\n",
              "    }\n",
              "\n",
              "    .dataframe tbody tr th {\n",
              "        vertical-align: top;\n",
              "    }\n",
              "\n",
              "    .dataframe thead th {\n",
              "        text-align: right;\n",
              "    }\n",
              "</style>\n",
              "<table border=\"1\" class=\"dataframe\">\n",
              "  <thead>\n",
              "    <tr style=\"text-align: right;\">\n",
              "      <th></th>\n",
              "      <th>Unnamed: 0</th>\n",
              "      <th>text</th>\n",
              "      <th>result</th>\n",
              "      <th>cleanedText</th>\n",
              "    </tr>\n",
              "  </thead>\n",
              "  <tbody>\n",
              "    <tr>\n",
              "      <th>0</th>\n",
              "      <td>0</td>\n",
              "      <td>Introverts, how did you get a girlfriend?</td>\n",
              "      <td>0</td>\n",
              "      <td>introverted girlfriend</td>\n",
              "    </tr>\n",
              "    <tr>\n",
              "      <th>1</th>\n",
              "      <td>1</td>\n",
              "      <td>1m older people say they often feel lonely. Re...</td>\n",
              "      <td>1</td>\n",
              "      <td>older people feel lonely regular physical acti...</td>\n",
              "    </tr>\n",
              "    <tr>\n",
              "      <th>2</th>\n",
              "      <td>2</td>\n",
              "      <td>@staceeeeee goodnight Cuppycake  hope you have...</td>\n",
              "      <td>0</td>\n",
              "      <td>staceeeeee goodnight cupcake hope good day don...</td>\n",
              "    </tr>\n",
              "    <tr>\n",
              "      <th>3</th>\n",
              "      <td>3</td>\n",
              "      <td>wanting to die but not having the ability to k...</td>\n",
              "      <td>1</td>\n",
              "      <td>wanting die having ability kill urselfcan rela...</td>\n",
              "    </tr>\n",
              "    <tr>\n",
              "      <th>4</th>\n",
              "      <td>4</td>\n",
              "      <td>Hey guys,\\nI was diagnosed with Atypical depre...</td>\n",
              "      <td>1</td>\n",
              "      <td>hey guys diagnosed atypical depression panic f...</td>\n",
              "    </tr>\n",
              "    <tr>\n",
              "      <th>...</th>\n",
              "      <td>...</td>\n",
              "      <td>...</td>\n",
              "      <td>...</td>\n",
              "      <td>...</td>\n",
              "    </tr>\n",
              "    <tr>\n",
              "      <th>8035</th>\n",
              "      <td>8035</td>\n",
              "      <td>Where is @JohnMu? anyone heard or have seen Jo...</td>\n",
              "      <td>0</td>\n",
              "      <td>johnmu heard seen john cheeseland recently</td>\n",
              "    </tr>\n",
              "    <tr>\n",
              "      <th>8036</th>\n",
              "      <td>8036</td>\n",
              "      <td>I took the rest of my sleeping pills and my pa...</td>\n",
              "      <td>1</td>\n",
              "      <td>took rest sleeping pills painkillers cant wait...</td>\n",
              "    </tr>\n",
              "    <tr>\n",
              "      <th>8037</th>\n",
              "      <td>8037</td>\n",
              "      <td>@PreDivorcePower More like outer circle, not i...</td>\n",
              "      <td>0</td>\n",
              "      <td>predivorcepower like outer circle inner circle...</td>\n",
              "    </tr>\n",
              "    <tr>\n",
              "      <th>8038</th>\n",
              "      <td>8038</td>\n",
              "      <td>hooray! i have 3 stalkers!  spy me spy me!!! w...</td>\n",
              "      <td>0</td>\n",
              "      <td>hooray 3 stalkers spy spy find ok win round hi...</td>\n",
              "    </tr>\n",
              "    <tr>\n",
              "      <th>8039</th>\n",
              "      <td>8039</td>\n",
              "      <td>@jmbuckingham Wish u were here, Jeannie! I thi...</td>\n",
              "      <td>0</td>\n",
              "      <td>jmbuckingham wish u jeannie think ud loving</td>\n",
              "    </tr>\n",
              "  </tbody>\n",
              "</table>\n",
              "<p>8040 rows × 4 columns</p>\n",
              "</div>"
            ],
            "text/plain": [
              "      Unnamed: 0  ...                                        cleanedText\n",
              "0              0  ...                             introverted girlfriend\n",
              "1              1  ...  older people feel lonely regular physical acti...\n",
              "2              2  ...  staceeeeee goodnight cupcake hope good day don...\n",
              "3              3  ...  wanting die having ability kill urselfcan rela...\n",
              "4              4  ...  hey guys diagnosed atypical depression panic f...\n",
              "...          ...  ...                                                ...\n",
              "8035        8035  ...         johnmu heard seen john cheeseland recently\n",
              "8036        8036  ...  took rest sleeping pills painkillers cant wait...\n",
              "8037        8037  ...  predivorcepower like outer circle inner circle...\n",
              "8038        8038  ...  hooray 3 stalkers spy spy find ok win round hi...\n",
              "8039        8039  ...        jmbuckingham wish u jeannie think ud loving\n",
              "\n",
              "[8040 rows x 4 columns]"
            ]
          },
          "metadata": {},
          "execution_count": 4
        }
      ]
    },
    {
      "cell_type": "code",
      "metadata": {
        "colab": {
          "base_uri": "https://localhost:8080/"
        },
        "id": "89C8SBAMc7Fd",
        "outputId": "4f4a40af-0d17-41c9-e657-c24a1aac73ad"
      },
      "source": [
        "main = main.dropna()\n",
        "from tensorflow.keras.preprocessing.text import Tokenizer\n",
        "MAX_NB_WORDS = 50000\n",
        "MAX_SEQUENCE_LENGTH = 250\n",
        "EMBEDDING_DIM = 100\n",
        "tokenizer = Tokenizer(num_words=MAX_NB_WORDS, filters='!\"#$%&()*+,-./:;<=>?@[\\]^_`{|}~', lower=True)\n",
        "tokenizer.fit_on_texts(main['cleanedText'].values)\n",
        "word_index = tokenizer.word_index\n",
        "print('Found %s unique tokens.' % len(word_index))"
      ],
      "execution_count": 5,
      "outputs": [
        {
          "output_type": "stream",
          "name": "stdout",
          "text": [
            "Found 22272 unique tokens.\n"
          ]
        }
      ]
    },
    {
      "cell_type": "code",
      "metadata": {
        "colab": {
          "base_uri": "https://localhost:8080/"
        },
        "id": "vQIPAT4sdMlr",
        "outputId": "ea906a72-1064-482e-ceab-05d7f0681190"
      },
      "source": [
        "from tensorflow.keras.preprocessing.sequence import pad_sequences\n",
        "X = tokenizer.texts_to_sequences(main['cleanedText'].values)\n",
        "X = pad_sequences(X, maxlen=MAX_SEQUENCE_LENGTH)\n",
        "print('Shape of data tensor:', X.shape)"
      ],
      "execution_count": 6,
      "outputs": [
        {
          "output_type": "stream",
          "name": "stdout",
          "text": [
            "Shape of data tensor: (8033, 250)\n"
          ]
        }
      ]
    },
    {
      "cell_type": "code",
      "metadata": {
        "colab": {
          "base_uri": "https://localhost:8080/"
        },
        "id": "ditb-2dJdXRL",
        "outputId": "35afa978-4c19-4cbc-a715-12329255690f"
      },
      "source": [
        "Y = pd.get_dummies(main['result']).values\n",
        "print('Shape of label tensor:', Y.shape)"
      ],
      "execution_count": 7,
      "outputs": [
        {
          "output_type": "stream",
          "name": "stdout",
          "text": [
            "Shape of label tensor: (8033, 2)\n"
          ]
        }
      ]
    },
    {
      "cell_type": "code",
      "metadata": {
        "colab": {
          "base_uri": "https://localhost:8080/"
        },
        "id": "3lXTXn9zdhsu",
        "outputId": "937cafd1-27d8-4428-d7d0-d52ed319a0c9"
      },
      "source": [
        "from sklearn.model_selection import train_test_split\n",
        "X_train, X_test, Y_train, Y_test = train_test_split(X,Y, test_size = 0.25, random_state = 42)\n",
        "print(X_train.shape,Y_train.shape)\n",
        "print(X_test.shape,Y_test.shape)"
      ],
      "execution_count": 8,
      "outputs": [
        {
          "output_type": "stream",
          "name": "stdout",
          "text": [
            "(6024, 250) (6024, 2)\n",
            "(2009, 250) (2009, 2)\n"
          ]
        }
      ]
    },
    {
      "cell_type": "code",
      "metadata": {
        "colab": {
          "base_uri": "https://localhost:8080/"
        },
        "id": "kODi1HIFdky_",
        "outputId": "c1376ed0-c402-457a-8ce4-c99a0c89208c"
      },
      "source": [
        "import tensorflow as tf\n",
        "from tensorflow import keras\n",
        "from tensorflow.keras import Sequential\n",
        "from tensorflow.keras.layers import Embedding, SpatialDropout1D, LSTM, Dense,GRU, Dropout\n",
        "from tensorflow.keras.callbacks import EarlyStopping\n",
        "\n",
        "model = Sequential()\n",
        "model.add(Embedding(MAX_NB_WORDS, EMBEDDING_DIM, input_length=X.shape[1]))\n",
        "model.add(LSTM(125, dropout=0.2, recurrent_dropout=0.2))\n",
        "model.add(Dense(2, activation='softmax'))\n",
        "model.compile(loss='binary_crossentropy',optimizer='adam', metrics=['accuracy',\n",
        "                                                                         tf.keras.metrics.Precision(name='precision'),\n",
        "                                                                         tf.keras.metrics.Recall(name='recall'),\n",
        "                                                                         tf.keras.metrics.RootMeanSquaredError(name = 'rmse'),\n",
        "                                                                         tf.keras.metrics.TrueNegatives(name='TN'),\n",
        "                                                                         tf.keras.metrics.TruePositives(name='TP'),\n",
        "                                                                         tf.keras.metrics.FalseNegatives(name='FN'),\n",
        "                                                                         tf.keras.metrics.FalsePositives(name='FP'),\n",
        "                                                                         'mse'])\n",
        "epochs = 3\n",
        "batch_size = 256\n",
        "history = model.fit(X_train, Y_train, epochs=epochs, batch_size=batch_size,validation_split=0.1,callbacks=[EarlyStopping(monitor='val_loss', patience=3, min_delta=0.0001)])"
      ],
      "execution_count": 9,
      "outputs": [
        {
          "output_type": "stream",
          "name": "stdout",
          "text": [
            "Epoch 1/3\n",
            "22/22 [==============================] - 64s 3s/step - loss: 0.6266 - accuracy: 0.6580 - precision: 0.6580 - recall: 0.6580 - rmse: 0.4604 - TN: 3567.0000 - TP: 3567.0000 - FN: 1854.0000 - FP: 1854.0000 - mse: 0.2120 - val_loss: 0.5025 - val_accuracy: 0.7861 - val_precision: 0.7861 - val_recall: 0.7861 - val_rmse: 0.3959 - val_TN: 474.0000 - val_TP: 474.0000 - val_FN: 129.0000 - val_FP: 129.0000 - val_mse: 0.1568\n",
            "Epoch 2/3\n",
            "22/22 [==============================] - 58s 3s/step - loss: 0.4232 - accuracy: 0.8213 - precision: 0.8213 - recall: 0.8213 - rmse: 0.3692 - TN: 4452.0000 - TP: 4452.0000 - FN: 969.0000 - FP: 969.0000 - mse: 0.1363 - val_loss: 0.3374 - val_accuracy: 0.8624 - val_precision: 0.8624 - val_recall: 0.8624 - val_rmse: 0.3215 - val_TN: 520.0000 - val_TP: 520.0000 - val_FN: 83.0000 - val_FP: 83.0000 - val_mse: 0.1034\n",
            "Epoch 3/3\n",
            "22/22 [==============================] - 58s 3s/step - loss: 0.2123 - accuracy: 0.9236 - precision: 0.9236 - recall: 0.9236 - rmse: 0.2399 - TN: 5007.0000 - TP: 5007.0000 - FN: 414.0000 - FP: 414.0000 - mse: 0.0576 - val_loss: 0.1855 - val_accuracy: 0.9287 - val_precision: 0.9287 - val_recall: 0.9287 - val_rmse: 0.2394 - val_TN: 560.0000 - val_TP: 560.0000 - val_FN: 43.0000 - val_FP: 43.0000 - val_mse: 0.0573\n"
          ]
        }
      ]
    },
    {
      "cell_type": "code",
      "metadata": {
        "colab": {
          "base_uri": "https://localhost:8080/"
        },
        "id": "S0-5BHSGdoV6",
        "outputId": "eef46d81-4c7c-43cd-b132-a06b9f7e4723"
      },
      "source": [
        "accr = model.evaluate(X_test,Y_test)\n",
        "print('Test set\\nLoss: {:0.3f}'.format(accr[0]))\n",
        "print('accuracy: {:0.3f}'.format(accr[1]))\n",
        "print('precision: {:0.3f}'.format(accr[2]))\n",
        "print('recall: {:0.3f}'.format(accr[3]))\n",
        "print('rmse: {:0.3f}'.format(accr[4]))\n",
        "print('TN: {:0.3f}'.format(accr[5]))\n",
        "print('TP: {:0.3f}'.format(accr[6]))\n",
        "print('FN: {:0.3f}'.format(accr[7]))\n",
        "print('FP: {:0.3f}'.format(accr[8]))\n",
        "print('mse: {:0.3f}'.format(accr[9]))\n",
        "#print('Test set\\n  Loss: {:0.3f}\\n  Accuracy: {:0.3f}\\n  precision: {:0.3f}\\n  recall: {:0.3f}'.format(accr[0],accr[1]))"
      ],
      "execution_count": 10,
      "outputs": [
        {
          "output_type": "stream",
          "name": "stdout",
          "text": [
            "63/63 [==============================] - 6s 93ms/step - loss: 0.2133 - accuracy: 0.9328 - precision: 0.9328 - recall: 0.9328 - rmse: 0.2372 - TN: 1874.0000 - TP: 1874.0000 - FN: 135.0000 - FP: 135.0000 - mse: 0.0563\n",
            "Test set\n",
            "Loss: 0.213\n",
            "accuracy: 0.933\n",
            "precision: 0.933\n",
            "recall: 0.933\n",
            "rmse: 0.237\n",
            "TN: 1874.000\n",
            "TP: 1874.000\n",
            "FN: 135.000\n",
            "FP: 135.000\n",
            "mse: 0.056\n"
          ]
        }
      ]
    },
    {
      "cell_type": "code",
      "metadata": {
        "colab": {
          "base_uri": "https://localhost:8080/",
          "height": 281
        },
        "id": "Nic31PeQdtRx",
        "outputId": "dd4b50ef-0bd9-4be0-9d78-bbc2903b0fe4"
      },
      "source": [
        "import matplotlib.pyplot as plt\n",
        "plt.title('Loss')\n",
        "plt.plot(history.history['loss'], label='train')\n",
        "plt.plot(history.history['val_loss'], label='test')\n",
        "plt.legend()\n",
        "plt.show();"
      ],
      "execution_count": 11,
      "outputs": [
        {
          "output_type": "display_data",
          "data": {
            "image/png": "[encoded data removed]",
            "text/plain": [
              "<Figure size 432x288 with 1 Axes>"
            ]
          },
          "metadata": {
            "needs_background": "light"
          }
        }
      ]
    },
    {
      "cell_type": "code",
      "metadata": {
        "colab": {
          "base_uri": "https://localhost:8080/",
          "height": 281
        },
        "id": "T_qsyYumdtxc",
        "outputId": "14cd772c-84c6-4ed2-8c5d-88a3a7205cf7"
      },
      "source": [
        "plt.title('Accuracy')\n",
        "plt.plot(history.history['accuracy'], label='train')\n",
        "plt.plot(history.history['val_accuracy'], label='test')\n",
        "plt.legend()\n",
        "plt.show();"
      ],
      "execution_count": 12,
      "outputs": [
        {
          "output_type": "display_data",
          "data": {
            "image/png": "[encoded data removed]",
            "text/plain": [
              "<Figure size 432x288 with 1 Axes>"
            ]
          },
          "metadata": {
            "needs_background": "light"
          }
        }
      ]
    },
    {
      "cell_type": "code",
      "metadata": {
        "colab": {
          "base_uri": "https://localhost:8080/",
          "height": 281
        },
        "id": "r7_Ya2vdbFL4",
        "outputId": "29f01390-5079-45fc-95bf-53b50eaa81ae"
      },
      "source": [
        "plt.title('Precision')\n",
        "plt.plot(history.history['precision'], label='train')\n",
        "plt.plot(history.history['val_precision'], label='test')\n",
        "plt.legend()\n",
        "plt.show();"
      ],
      "execution_count": 13,
      "outputs": [
        {
          "output_type": "display_data",
          "data": {
            "image/png": "[encoded data removed]",
            "text/plain": [
              "<Figure size 432x288 with 1 Axes>"
            ]
          },
          "metadata": {
            "needs_background": "light"
          }
        }
      ]
    },
    {
      "cell_type": "code",
      "metadata": {
        "colab": {
          "base_uri": "https://localhost:8080/",
          "height": 281
        },
        "id": "4-jB6WVmbFED",
        "outputId": "bf53959b-92b2-4bdd-ddf0-2b5168479e6b"
      },
      "source": [
        "plt.title('Recall')\n",
        "plt.plot(history.history['recall'], label='train')\n",
        "plt.plot(history.history['val_recall'], label='test')\n",
        "plt.legend()\n",
        "plt.show();"
      ],
      "execution_count": 14,
      "outputs": [
        {
          "output_type": "display_data",
          "data": {
            "image/png": "[encoded data removed]",
            "text/plain": [
              "<Figure size 432x288 with 1 Axes>"
            ]
          },
          "metadata": {
            "needs_background": "light"
          }
        }
      ]
    },
    {
      "cell_type": "code",
      "metadata": {
        "colab": {
          "base_uri": "https://localhost:8080/",
          "height": 281
        },
        "id": "t9_SHeSXbE7_",
        "outputId": "e0f17860-efbd-4871-e0f2-bae9619a59d8"
      },
      "source": [
        "plt.title('RMSE')\n",
        "plt.plot(history.history['rmse'], label='train')\n",
        "plt.plot(history.history['val_rmse'], label='test')\n",
        "plt.legend()\n",
        "plt.show();"
      ],
      "execution_count": 15,
      "outputs": [
        {
          "output_type": "display_data",
          "data": {
            "image/png": "[encoded data removed]",
            "text/plain": [
              "<Figure size 432x288 with 1 Axes>"
            ]
          },
          "metadata": {
            "needs_background": "light"
          }
        }
      ]
    },
    {
      "cell_type": "code",
      "metadata": {
        "colab": {
          "base_uri": "https://localhost:8080/",
          "height": 281
        },
        "id": "lw7JQJ7CbEzT",
        "outputId": "e7da7c8b-c4da-4299-953f-c7feee2b8021"
      },
      "source": [
        "plt.title('TN')\n",
        "plt.plot(history.history['TN'], label='train')\n",
        "plt.plot(history.history['val_TN'], label='test')\n",
        "plt.legend()\n",
        "plt.show();"
      ],
      "execution_count": 16,
      "outputs": [
        {
          "output_type": "display_data",
          "data": {
            "image/png": "[encoded data removed]",
            "text/plain": [
              "<Figure size 432x288 with 1 Axes>"
            ]
          },
          "metadata": {
            "needs_background": "light"
          }
        }
      ]
    },
    {
      "cell_type": "code",
      "metadata": {
        "colab": {
          "base_uri": "https://localhost:8080/",
          "height": 281
        },
        "id": "TPMU7YGTbErO",
        "outputId": "1c1de4a6-3211-4b98-a13b-862cafa0d1c3"
      },
      "source": [
        "plt.title('TP')\n",
        "plt.plot(history.history['TP'], label='train')\n",
        "plt.plot(history.history['val_TP'], label='test')\n",
        "plt.legend()\n",
        "plt.show();"
      ],
      "execution_count": 17,
      "outputs": [
        {
          "output_type": "display_data",
          "data": {
            "image/png": "[encoded data removed]",
            "text/plain": [
              "<Figure size 432x288 with 1 Axes>"
            ]
          },
          "metadata": {
            "needs_background": "light"
          }
        }
      ]
    },
    {
      "cell_type": "code",
      "metadata": {
        "colab": {
          "base_uri": "https://localhost:8080/",
          "height": 281
        },
        "id": "qtFznBMybEjB",
        "outputId": "c1307729-fd4a-4aff-85a7-8746c1a0844d"
      },
      "source": [
        "plt.title('FN')\n",
        "plt.plot(history.history['FN'], label='train')\n",
        "plt.plot(history.history['val_FN'], label='test')\n",
        "plt.legend()\n",
        "plt.show();"
      ],
      "execution_count": 18,
      "outputs": [
        {
          "output_type": "display_data",
          "data": {
            "image/png": "[encoded data removed]",
            "text/plain": [
              "<Figure size 432x288 with 1 Axes>"
            ]
          },
          "metadata": {
            "needs_background": "light"
          }
        }
      ]
    },
    {
      "cell_type": "code",
      "metadata": {
        "colab": {
          "base_uri": "https://localhost:8080/",
          "height": 281
        },
        "id": "nWRCjZH9bEbN",
        "outputId": "f4502926-cfd2-414d-8232-e7b9ce10ac1f"
      },
      "source": [
        "plt.title('FP')\n",
        "plt.plot(history.history['FP'], label='train')\n",
        "plt.plot(history.history['val_FP'], label='test')\n",
        "plt.legend()\n",
        "plt.show();"
      ],
      "execution_count": 19,
      "outputs": [
        {
          "output_type": "display_data",
          "data": {
            "image/png": "[encoded data removed]",
            "text/plain": [
              "<Figure size 432x288 with 1 Axes>"
            ]
          },
          "metadata": {
            "needs_background": "light"
          }
        }
      ]
    },
    {
      "cell_type": "code",
      "metadata": {
        "colab": {
          "base_uri": "https://localhost:8080/",
          "height": 281
        },
        "id": "RpnIwnJRbESa",
        "outputId": "758a06a7-8c88-4faf-fdde-185bceac56ef"
      },
      "source": [
        "plt.title('MSE')\n",
        "plt.plot(history.history['mse'], label='train')\n",
        "plt.plot(history.history['val_mse'], label='test')\n",
        "plt.legend()\n",
        "plt.show();"
      ],
      "execution_count": 20,
      "outputs": [
        {
          "output_type": "display_data",
          "data": {
            "image/png": "[encoded data removed]",
            "text/plain": [
              "<Figure size 432x288 with 1 Axes>"
            ]
          },
          "metadata": {
            "needs_background": "light"
          }
        }
      ]
    },
    {
      "cell_type": "code",
      "metadata": {
        "colab": {
          "base_uri": "https://localhost:8080/"
        },
        "id": "KtlmKafgdvnW",
        "outputId": "a2346926-2617-4870-d348-5b38016be897"
      },
      "source": [
        "val = validate[['cleanedText','result']].dropna()\n",
        "X1 = tokenizer.texts_to_sequences(val['cleanedText'].values)\n",
        "X1 = pad_sequences(X1, maxlen=MAX_SEQUENCE_LENGTH)\n",
        "print('Shape of data tensor:', X1.shape)\n",
        "Y1 = pd.get_dummies(val['result']).values\n",
        "print('Shape of label tensor:', Y1.shape)"
      ],
      "execution_count": 21,
      "outputs": [
        {
          "output_type": "stream",
          "name": "stdout",
          "text": [
            "Shape of data tensor: (498, 250)\n",
            "Shape of label tensor: (498, 2)\n"
          ]
        }
      ]
    },
    {
      "cell_type": "code",
      "metadata": {
        "colab": {
          "base_uri": "https://localhost:8080/"
        },
        "id": "feymi_6njBsZ",
        "outputId": "3953eb60-a66b-4912-b6c4-7d4c826b8078"
      },
      "source": [
        "accr = model.evaluate(X1,Y1)\n",
        "print('Test set\\n  Loss: {:0.3f}\\n  Accuracy: {:0.3f}'.format(accr[0],accr[1]))"
      ],
      "execution_count": 22,
      "outputs": [
        {
          "output_type": "stream",
          "name": "stdout",
          "text": [
            "16/16 [==============================] - 1s 91ms/step - loss: 0.4872 - accuracy: 0.7811 - precision: 0.7811 - recall: 0.7811 - rmse: 0.4195 - TN: 389.0000 - TP: 389.0000 - FN: 109.0000 - FP: 109.0000 - mse: 0.1760\n",
            "Test set\n",
            "  Loss: 0.487\n",
            "  Accuracy: 0.781\n"
          ]
        }
      ]
    },
    {
      "cell_type": "code",
      "metadata": {
        "colab": {
          "base_uri": "https://localhost:8080/"
        },
        "id": "DbYX_LCzwMEY",
        "outputId": "c4bc27df-68fa-4411-a1a6-87c26819d578"
      },
      "source": [
        "!pip install pyspellchecker"
      ],
      "execution_count": 23,
      "outputs": [
        {
          "output_type": "stream",
          "name": "stdout",
          "text": [
            "Collecting pyspellchecker\n",
            "  Downloading pyspellchecker-0.6.2-py3-none-any.whl (2.7 MB)\n",
            "\u001b[K     |████████████████████████████████| 2.7 MB 5.3 MB/s \n",
            "\u001b[?25hInstalling collected packages: pyspellchecker\n",
            "Successfully installed pyspellchecker-0.6.2\n"
          ]
        }
      ]
    },
    {
      "cell_type": "code",
      "metadata": {
        "id": "pNXwEG8ojw0o"
      },
      "source": [
        "import re\n",
        "from spellchecker import SpellChecker\n",
        "REPLACE_BY_SPACE_RE = re.compile('[/(){}\\[\\]\\|@,;]')\n",
        "BAD_SYMBOLS_RE = re.compile('[^0-9a-z #+_]')\n",
        "\n",
        "import spacy\n",
        "#loading the english language small model of spacy\n",
        "en = spacy.load('en_core_web_sm')\n",
        "sw_spacy = en.Defaults.stop_words\n",
        "\n",
        "def clean_text(text):\n",
        "    text = text.lower() # lowercase text\n",
        "    text = REPLACE_BY_SPACE_RE.sub(' ', text) # replace REPLACE_BY_SPACE_RE symbols by space in text. substitute the matched string in REPLACE_BY_SPACE_RE with space.\n",
        "    text = BAD_SYMBOLS_RE.sub('', text) # remove symbols which are in BAD_SYMBOLS_RE from text. substitute the matched string in BAD_SYMBOLS_RE with nothing. \n",
        "    text = text.replace('x', '')\n",
        "    words = [word for word in text.split() if word.lower() not in sw_spacy]\n",
        "    text = \" \".join(words)\n",
        "    return text\n",
        "\n",
        "def fuzzyLogic(text):\n",
        "  spell = SpellChecker()\n",
        "  text = ' '.join([spell.correction(word) for word in text.split()])\n",
        "  return text\n",
        "\n",
        "def isDepressing(text):\n",
        "  text = fuzzyLogic(text)\n",
        "  lst = {'body':[text]}\n",
        "  # Calling DataFrame constructor on list  \n",
        "  dframe = pd.DataFrame(lst) \n",
        "  dframe = dframe['body'].apply(clean_text)\n",
        "  dframe = dframe.str.replace('\\d+', '')\n",
        "  X1 = tokenizer.texts_to_sequences(dframe.values)\n",
        "  X1 = pad_sequences(X1, maxlen=MAX_SEQUENCE_LENGTH)\n",
        "  print('Shape of data tensor:', X1.shape)\n",
        "  a = model.predict(X1)\n",
        "  print(a)\n",
        "  if(a[0][0] > a[0][1]):\n",
        "    return 0\n",
        "  return 1"
      ],
      "execution_count": 24,
      "outputs": []
    },
    {
      "cell_type": "code",
      "metadata": {
        "colab": {
          "base_uri": "https://localhost:8080/"
        },
        "id": "XHaSfAuvuGtH",
        "outputId": "7598723b-ce75-46c5-e1dd-8ab2a2303ec1"
      },
      "source": [
        "isDepressing(\"i get depressing thoughts every day. i plan on committing suicide\")"
      ],
      "execution_count": 25,
      "outputs": [
        {
          "output_type": "stream",
          "name": "stdout",
          "text": [
            "Shape of data tensor: (1, 250)\n",
            "[[0.19742556 0.8025744 ]]\n"
          ]
        },
        {
          "output_type": "execute_result",
          "data": {
            "text/plain": [
              "1"
            ]
          },
          "metadata": {},
          "execution_count": 25
        }
      ]
    },
    {
      "cell_type": "code",
      "metadata": {
        "id": "hKHSNJlMnHD2",
        "colab": {
          "base_uri": "https://localhost:8080/"
        },
        "outputId": "bbc65719-8d21-4afd-f656-e13cc9c617aa"
      },
      "source": [
        "saved_model_path = model.save(f\"./tmp/{1}\", save_format='tf')"
      ],
      "execution_count": 28,
      "outputs": [
        {
          "output_type": "stream",
          "name": "stdout",
          "text": [
            "INFO:tensorflow:Assets written to: ./tmp/1/assets\n"
          ]
        }
      ]
    },
    {
      "cell_type": "code",
      "metadata": {
        "id": "ZVUIFcaOOQmD"
      },
      "source": [
        "import subprocess\n",
        "subprocess.run([f\"saved_model_cli show --dir ./tmp/{1}/ --all\"],shell=True)\n",
        "# Zipping the model as model.tar.gz\n",
        "subprocess.run([f\"tar cvfz model.tar.gz tmp/{1}/\"],shell=True)"
      ],
      "execution_count": 29,
      "outputs": []
    },
    {
      "cell_type": "code",
      "metadata": {
        "colab": {
          "base_uri": "https://localhost:8080/",
          "height": 17
        },
        "id": "OBfANuucOU_c",
        "outputId": "426c75df-dc30-4eb8-d286-59a4426b184c"
      },
      "source": [
        "from google.colab import files\n",
        "files.download('model.tar.gz')"
      ],
      "execution_count": 30,
      "outputs": [
        {
          "output_type": "display_data",
          "data": {
            "application/javascript": [
              "\n",
              "    async function download(id, filename, size) {\n",
              "      if (!google.colab.kernel.accessAllowed) {\n",
              "        return;\n",
              "      }\n",
              "      const div = document.createElement('div');\n",
              "      const label = document.createElement('label');\n",
              "      label.textContent = `Downloading \"${filename}\": `;\n",
              "      div.appendChild(label);\n",
              "      const progress = document.createElement('progress');\n",
              "      progress.max = size;\n",
              "      div.appendChild(progress);\n",
              "      document.body.appendChild(div);\n",
              "\n",
              "      const buffers = [];\n",
              "      let downloaded = 0;\n",
              "\n",
              "      const channel = await google.colab.kernel.comms.open(id);\n",
              "      // Send a message to notify the kernel that we're ready.\n",
              "      channel.send({})\n",
              "\n",
              "      for await (const message of channel.messages) {\n",
              "        // Send a message to notify the kernel that we're ready.\n",
              "        channel.send({})\n",
              "        if (message.buffers) {\n",
              "          for (const buffer of message.buffers) {\n",
              "            buffers.push(buffer);\n",
              "            downloaded += buffer.byteLength;\n",
              "            progress.value = downloaded;\n",
              "          }\n",
              "        }\n",
              "      }\n",
              "      const blob = new Blob(buffers, {type: 'application/binary'});\n",
              "      const a = document.createElement('a');\n",
              "      a.href = window.URL.createObjectURL(blob);\n",
              "      a.download = filename;\n",
              "      div.appendChild(a);\n",
              "      a.click();\n",
              "      div.remove();\n",
              "    }\n",
              "  "
            ],
            "text/plain": [
              "<IPython.core.display.Javascript object>"
            ]
          },
          "metadata": {}
        },
        {
          "output_type": "display_data",
          "data": {
            "application/javascript": [
              "download(\"download_60029141-361d-45c7-9f9f-b009651d6d91\", \"model.tar.gz\", 32716852)"
            ],
            "text/plain": [
              "<IPython.core.display.Javascript object>"
            ]
          },
          "metadata": {}
        }
      ]
    },
    {
      "cell_type": "code",
      "metadata": {
        "colab": {
          "base_uri": "https://localhost:8080/"
        },
        "id": "b1_f_Q9cSZfB",
        "outputId": "acf26ac2-3fcb-4726-bda5-aae876ab5ba8"
      },
      "source": [
        "!pip install pyyaml h5py  # Required to save models in HDF5 format"
      ],
      "execution_count": 41,
      "outputs": [
        {
          "output_type": "stream",
          "name": "stdout",
          "text": [
            "Requirement already satisfied: pyyaml in /usr/local/lib/python3.7/dist-packages (3.13)\n",
            "Requirement already satisfied: h5py in /usr/local/lib/python3.7/dist-packages (3.1.0)\n",
            "Requirement already satisfied: cached-property in /usr/local/lib/python3.7/dist-packages (from h5py) (1.5.2)\n",
            "Requirement already satisfied: numpy>=1.14.5 in /usr/local/lib/python3.7/dist-packages (from h5py) (1.19.5)\n"
          ]
        }
      ]
    },
    {
      "cell_type": "code",
      "metadata": {
        "id": "j9UyeHbJW77D"
      },
      "source": [
        "model.save('model.h5')"
      ],
      "execution_count": 42,
      "outputs": []
    },
    {
      "cell_type": "code",
      "metadata": {
        "id": "5IitKEreYZ0G"
      },
      "source": [
        "new_model = tf.keras.models.load_model('tmp/1')"
      ],
      "execution_count": 44,
      "outputs": []
    },
    {
      "cell_type": "code",
      "metadata": {
        "colab": {
          "base_uri": "https://localhost:8080/"
        },
        "id": "VRu81xX_Y8Ph",
        "outputId": "2b88cb86-dd86-4100-9807-c76ca23d7947"
      },
      "source": [
        "new_model.summary()"
      ],
      "execution_count": 45,
      "outputs": [
        {
          "output_type": "stream",
          "name": "stdout",
          "text": [
            "Model: \"sequential\"\n",
            "_________________________________________________________________\n",
            "Layer (type)                 Output Shape              Param #   \n",
            "=================================================================\n",
            "embedding (Embedding)        (None, 250, 100)          5000000   \n",
            "_________________________________________________________________\n",
            "lstm (LSTM)                  (None, 125)               113000    \n",
            "_________________________________________________________________\n",
            "dense (Dense)                (None, 2)                 252       \n",
            "=================================================================\n",
            "Total params: 5,113,252\n",
            "Trainable params: 5,113,252\n",
            "Non-trainable params: 0\n",
            "_________________________________________________________________\n"
          ]
        }
      ]
    },
    {
      "cell_type": "code",
      "metadata": {
        "id": "3PAnSHmBZgxo"
      },
      "source": [
        "def isDepressingNew(text):\n",
        "  text = fuzzyLogic(text)\n",
        "  lst = {'body':[text]}\n",
        "  # Calling DataFrame constructor on list  \n",
        "  dframe = pd.DataFrame(lst) \n",
        "  dframe = dframe['body'].apply(clean_text)\n",
        "  dframe = dframe.str.replace('\\d+', '')\n",
        "  X1 = tokenizer.texts_to_sequences(dframe.values)\n",
        "  X1 = pad_sequences(X1, maxlen=MAX_SEQUENCE_LENGTH)\n",
        "  print('Shape of data tensor:', X1.shape)\n",
        "  a = new_model.predict(X1)\n",
        "  print(a)\n",
        "  if(a[0][0] > a[0][1]):\n",
        "    return 0\n",
        "  return 1"
      ],
      "execution_count": 48,
      "outputs": []
    },
    {
      "cell_type": "code",
      "metadata": {
        "colab": {
          "base_uri": "https://localhost:8080/"
        },
        "id": "ksr5rNUiZCCo",
        "outputId": "629e01b1-b68a-41ef-8cf0-353130b36a16"
      },
      "source": [
        "isDepressingNew('I just dont want to live anymore. I am a huge burden to my family and to the society at large. I should just die')"
      ],
      "execution_count": 50,
      "outputs": [
        {
          "output_type": "stream",
          "name": "stdout",
          "text": [
            "Shape of data tensor: (1, 250)\n",
            "[[5.6935594e-05 9.9994302e-01]]\n"
          ]
        },
        {
          "output_type": "execute_result",
          "data": {
            "text/plain": [
              "1"
            ]
          },
          "metadata": {},
          "execution_count": 50
        }
      ]
    },
    {
      "cell_type": "code",
      "metadata": {
        "id": "lzLO8hAvZJIb"
      },
      "source": [
        ""
      ],
      "execution_count": null,
      "outputs": []
    }
  ]
}